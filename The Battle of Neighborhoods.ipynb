{
 "cells": [
  {
   "cell_type": "markdown",
   "metadata": {},
   "source": [
    "### Introduction/Business Problem"
   ]
  },
  {
   "cell_type": "markdown",
   "metadata": {},
   "source": [
    " ###### Background : \n",
    "Best restaurant in a neighborhood with interested customers will not have as much as profit as a relatively to medium restaurant in a neighborhoods with potential customer. So, location is one of the major determining factors of success restaurants. This study will aim to find the best location for a given restaurant based on its types.\n",
    "\n",
    "###### Business Problem : \n",
    "Fnding out the best/suitable place to open a restaurants depending on its type in an appropriate city. \n",
    "\n",
    "###### Viewers :\n",
    "Viewers would be those people who are looking into investing in a restaurant.\n"
   ]
  }
 ],
 "metadata": {
  "kernelspec": {
   "display_name": "Python 3",
   "language": "python",
   "name": "python3"
  },
  "language_info": {
   "codemirror_mode": {
    "name": "ipython",
    "version": 3
   },
   "file_extension": ".py",
   "mimetype": "text/x-python",
   "name": "python",
   "nbconvert_exporter": "python",
   "pygments_lexer": "ipython3",
   "version": "3.7.6"
  }
 },
 "nbformat": 4,
 "nbformat_minor": 4
}

{
 "cells": [
  {
   "cell_type": "markdown",
   "metadata": {},
   "source": [
    "# Restaurant Location Selection in New York City in the Face of COVID-19 Risk"
   ]
  },
  {
   "cell_type": "markdown",
   "metadata": {},
   "source": [
    "### Table of contents"
   ]
  },
  {
   "cell_type": "raw",
   "metadata": {},
   "source": [
    "Introduction\n",
    "Data\n",
    "Methodology\n",
    "Results\n",
    "Discussion\n",
    "Conclusion"
   ]
  },
  {
   "cell_type": "markdown",
   "metadata": {},
   "source": [
    "## Introduction "
   ]
  },
  {
   "cell_type": "markdown",
   "metadata": {},
   "source": [
    "#### 1. Background "
   ]
  },
  {
   "cell_type": "markdown",
   "metadata": {},
   "source": [
    "The outbreak of coronavirus since December 2019 has led to a global disease pandemic now spreading across more than 180 countries and regions. The COVID-19 pandemic has sickened more than five million people and claimed more than 300 thousand lives as of May 2020; the numbers are still increasing. This unprecedented public health crisis around the world results in the largest isolation, quarantine, and shelter in place in human history, which causes a global economic and social crisis. One profound consequence of this unprecedented pandemic is that public health risk becomes a new type of business risk that every business organization must take careful consideration. The risk consideration is especially important when owner of a new business is selecting its location."
   ]
  },
  {
   "cell_type": "markdown",
   "metadata": {},
   "source": [
    "#### Problem"
   ]
  },
  {
   "cell_type": "markdown",
   "metadata": {},
   "source": [
    "Someone is looking to open a restaurant in New York City but seriously concerned about the COVID-19 risk because the city has been most hit by the COVID-19. It is of her interest to open the business at a location in NYC that is less exposed to the public health risk due to some features of the location. This project aims to provide some recommendation to her through a analysis of geographical data related to the COVID-19 cases and local events and places in NYC"
   ]
  },
  {
   "cell_type": "markdown",
   "metadata": {},
   "source": [
    "#### Target audience"
   ]
  },
  {
   "cell_type": "markdown",
   "metadata": {},
   "source": [
    "Target audiences of my project are people who are considering to open new restaurants or relocating their restaurants in New York City."
   ]
  },
  {
   "cell_type": "markdown",
   "metadata": {},
   "source": [
    "#### 2. Data "
   ]
  },
  {
   "cell_type": "markdown",
   "metadata": {},
   "source": [
    "Two pieces of geographical data will be collected to conduct data analysis in this project.\n",
    "\n",
    "First, up-to-date COVID-19 case data is acquired from the city's COVID-19 data file archive. Of various types of COVID-19 data, I am specifically interested in the COVID-19 Case Rate (per 10k) in 306 neighborhoods in 5 boroughs of New York City.\n",
    "\n",
    "Second, the data about local events and places is scrapped from Foursquare website through API scraping. The data specifially interesing to me is most common venue categories in different NYC neighborhoods such as Shop, Park, Trail, and others within radius of 1,000 meters of a neighborhood center. In total, 20,545 data points received from Foursquare that represent 396 unique venue categories.\n",
    "\n",
    "To reflect the new business owner's interest, an exploratory data analysis will be conducted to discover valuable data information about relationship between the two pieces of data. The information will enlighten some meaningful recommendation about new restaurant location with less exposure to the COVID-19 risk."
   ]
  },
  {
   "cell_type": "markdown",
   "metadata": {},
   "source": [
    "### 3. Methodology"
   ]
  },
  {
   "cell_type": "markdown",
   "metadata": {},
   "source": [
    "I employed two exploratory data analysis methods in my project."
   ]
  },
  {
   "cell_type": "markdown",
   "metadata": {},
   "source": [
    "#### Choropleth map"
   ]
  },
  {
   "cell_type": "markdown",
   "metadata": {},
   "source": [
    "I first created a Choropleth map using folium library that visualizes the COVID-19 case rate(per 10k) in different neighborhoods of New York City. The map is designed in such a way that darker the color, higher the case rate in one neighborhood. A couple of neighborhoods have black color because fewer than 10 cases were observed in those neighborhoods so that the case numbers were not reported for the sake of privacy protection."
   ]
  },
  {
   "cell_type": "markdown",
   "metadata": {},
   "source": [
    "#### K-means clustering"
   ]
  },
  {
   "cell_type": "markdown",
   "metadata": {},
   "source": [
    "Through Foursquare API, I scraped venue categories (e.g., Shop, Park, Trail, and others) within the radius of 1,000 meters in each NYC neighborhood, and then created dummy variable for each category. Then, we calculate gourp mean of different dummy variables by neighborhood. This results in a dataset suitable for K-means clustering. K-means clustering is a machine learning method that will partition neighborhoods into different clusters based on the group of venue attributes associated with the neighborhoods. As such, neighborhoods in the same cluster are more similar to one another; neighborhoods in different clusters are more dissimilar to one another.\n",
    "\n",
    "One notable issue with K-means clustering is model overfitting when it is trained with high-dimensional data. In our case, the dataset has 302 rows and 396 columns, which is a typical high-dimensional dataset. So, to prevent model overfitting, using the elbow method we select a optimal number of cluster (i.e., the K value) to build the clusters. The elbow method produces the following plot based on our dataset."
   ]
  },
  {
   "cell_type": "markdown",
   "metadata": {},
   "source": [
    "Most reduction in distortion occured between 1 and 6. So, the optimal K value is determined to be 6.\n",
    "\n",
    "After the K-means clustering (K=6) is completed, we also summary the 1st, 2nd, and 3rd most common venues in each of the six clusters. We then add the clustering results to the Choropleth map created above. Neighborhoods belonging to different clusters are highlighted by different colors. Each cluster is also labeled with its top 3 most common venues"
   ]
  },
  {
   "cell_type": "markdown",
   "metadata": {},
   "source": [
    "### 4. Results "
   ]
  },
  {
   "cell_type": "markdown",
   "metadata": {},
   "source": [
    "My exploratory analysis produces an interactive map which can be accessed through THIS LINK.\n",
    "\n",
    "The map provides very interesting results that are valuable for the target audience of this project to make better location selection. As seen in the amplified map below, most neighborhoods belonging to Cluster 5 have relatively lower COVID-19 case rate. The top 3 common venue categories in the cluster is \"Restaurant\", \"Park\", and \"Coffee shop\". It is not a surprise to see \"Restaurant\" among the top categories since it is the case for all other clusters too. Instead, what's interesting is that \"Park\" appears to be a very common venue category in the neighborhoods."
   ]
  },
  {
   "cell_type": "markdown",
   "metadata": {},
   "source": [
    "On the other hand, from the following map, it is seen that most neighborhoods belonging to Cluster 1 have relatively higher COVID-19 case rate. \"Beach\" is the very common venue category among those neighborhoods."
   ]
  },
  {
   "cell_type": "markdown",
   "metadata": {},
   "source": [
    "### 5. Discussion "
   ]
  },
  {
   "cell_type": "markdown",
   "metadata": {},
   "source": [
    "My data analysis reveals some interesting features of locations in New York City where we observe lower COVID-19 case rate and where we observe higher case rate. As suggested by our analysis results, the neighborhoods with more parks have less COVID-19 risk. In contrary, if one neighborhood is near crowded beach, there will be high COVID-19 risk.\n",
    "\n",
    "Therefore, if someone is looking to open a restaurant in New York City but seriously concerned about the COVID-19 risk, I would recommend her to narrow her selections to the neighborhoods with more parks and avoid the beach neighborhoods."
   ]
  },
  {
   "cell_type": "markdown",
   "metadata": {},
   "source": [
    "### 6. Conclusion "
   ]
  },
  {
   "cell_type": "markdown",
   "metadata": {},
   "source": [
    "In this project, I collected geographical data related to COVID-19 cases and local events and places in New York City. I analyzed the data collection using two exploratory methods, namely, Choropleth map and K-means clustering. The analysis results reveal valuable data information about the relationship between the two pieces of data. The revealed information supports meaningful recommendations to people who are considering to open new restaurants or relocating their restaurants in New York City."
   ]
  }
 ],
 "metadata": {
  "kernelspec": {
   "display_name": "Python 3",
   "language": "python",
   "name": "python3"
  },
  "language_info": {
   "codemirror_mode": {
    "name": "ipython",
    "version": 3
   },
   "file_extension": ".py",
   "mimetype": "text/x-python",
   "name": "python",
   "nbconvert_exporter": "python",
   "pygments_lexer": "ipython3",
   "version": "3.7.6"
  }
 },
 "nbformat": 4,
 "nbformat_minor": 4
}
